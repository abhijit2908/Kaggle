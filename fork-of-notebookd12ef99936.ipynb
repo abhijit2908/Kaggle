{
 "cells": [
  {
   "cell_type": "code",
   "execution_count": 1,
   "id": "b7dc1f10",
   "metadata": {
    "_cell_guid": "b1076dfc-b9ad-4769-8c92-a6c4dae69d19",
    "_uuid": "8f2839f25d086af736a60e9eeb907d3b93b6e0e5",
    "execution": {
     "iopub.execute_input": "2022-09-27T16:32:28.834604Z",
     "iopub.status.busy": "2022-09-27T16:32:28.833921Z",
     "iopub.status.idle": "2022-09-27T16:32:29.193449Z",
     "shell.execute_reply": "2022-09-27T16:32:29.192529Z"
    },
    "papermill": {
     "duration": 0.366958,
     "end_time": "2022-09-27T16:32:29.196153",
     "exception": false,
     "start_time": "2022-09-27T16:32:28.829195",
     "status": "completed"
    },
    "tags": []
   },
   "outputs": [
    {
     "name": "stdout",
     "output_type": "stream",
     "text": [
      "/kaggle/input/titanic/train.csv\n",
      "/kaggle/input/titanic/test.csv\n",
      "/kaggle/input/titanic/gender_submission.csv\n",
      "  Embarked  Survived  Perished  Total\n",
      "0                  2         0      2\n",
      "1        C        93        75    168\n",
      "2        Q        30        47     77\n",
      "3        S       217       427    644\n"
     ]
    },
    {
     "data": {
      "image/png": "[encoded data removed]",
      "text/plain": [
       "<Figure size 864x576 with 1 Axes>"
      ]
     },
     "metadata": {
      "needs_background": "light"
     },
     "output_type": "display_data"
    }
   ],
   "source": [
    "# This Python 3 environment comes with many helpful analytics libraries installed\n",
    "# It is defined by the kaggle/python Docker image: https://github.com/kaggle/docker-python\n",
    "# For example, here's several helpful packages to load\n",
    "\n",
    "import numpy as np # linear algebra\n",
    "import pandas as pd # data processing, CSV file I/O (e.g. pd.read_csv)\n",
    "import matplotlib.pyplot as plt\n",
    " \n",
    "# Input data files are available in the read-only \"../input/\" directory\n",
    "# For example, running this (by clicking run or pressing Shift+Enter) will list all files under the input directory\n",
    "\n",
    "import os\n",
    "for dirname, _, filenames in os.walk('/kaggle/input'):\n",
    "    for filename in filenames:\n",
    "        print(os.path.join(dirname, filename))\n",
    "        \n",
    "\n",
    "train = pd.read_csv(\"/kaggle/input/titanic/train.csv\")\n",
    "# printing the first 5 rows of dataset\n",
    "train.head()\n",
    "\n",
    "columns_train = list(train.columns)\n",
    "columns_train\n",
    "train.isnull().mean()\n",
    "\n",
    "for column in columns_train:\n",
    "    train[column] = train[column].fillna(\"\")\n",
    "    \n",
    "\n",
    "df = pd.DataFrame(train)\n",
    "ds = pd.DataFrame()\n",
    "\n",
    "ds[\"Survived\"] = df.groupby([\"Embarked\"])['Survived'].sum()\n",
    "ds[\"Perished\"] = df.groupby([\"Embarked\"])['Survived'].count() - df.groupby([\"Embarked\"])['Survived'].sum()\n",
    "ds[\"Total\"] = df.groupby([\"Embarked\"])['Survived'].count()\n",
    "\n",
    "dx = ds.reset_index()\n",
    "\n",
    "print(dx)\n",
    "\n",
    "barWidth = 0.25\n",
    "fig = plt.subplots(figsize =(12, 8))\n",
    "\n",
    "br1 = np.arange(len(dx[\"Embarked\"]))\n",
    "br2 = [x + barWidth for x in br1]\n",
    "\n",
    "plt.bar(br1, dx[\"Survived\"], color ='g', width = barWidth,\n",
    "        edgecolor ='grey', label ='Survived')\n",
    "plt.bar(br2, dx[\"Perished\"], color ='r', width = barWidth,\n",
    "        edgecolor ='grey', label ='Perished')\n",
    "\n",
    "plt.xlabel('Embarked', fontweight ='bold', fontsize = 15)\n",
    "plt.ylabel('Passengers', fontweight ='bold', fontsize = 15)\n",
    "plt.xticks([r + barWidth for r in range(len(dx[\"Embarked\"]))],\n",
    "        ['Not Available','C','Q','S'])\n",
    "\n",
    "plt.legend()\n",
    "plt.show()\n",
    "\n",
    "# You can write up to 20GB to the current directory (/kaggle/working/) that gets preserved as output when you create a version using \"Save & Run All\" \n",
    "# You can also write temporary files to /kaggle/temp/, but they won't be saved outside of the current session"
   ]
  },
  {
   "cell_type": "code",
   "execution_count": null,
   "id": "86e75e10",
   "metadata": {
    "papermill": {
     "duration": 0.00176,
     "end_time": "2022-09-27T16:32:29.200418",
     "exception": false,
     "start_time": "2022-09-27T16:32:29.198658",
     "status": "completed"
    },
    "tags": []
   },
   "outputs": [],
   "source": []
  }
 ],
 "metadata": {
  "kernelspec": {
   "display_name": "Python 3",
   "language": "python",
   "name": "python3"
  },
  "language_info": {
   "codemirror_mode": {
    "name": "ipython",
    "version": 3
   },
   "file_extension": ".py",
   "mimetype": "text/x-python",
   "name": "python",
   "nbconvert_exporter": "python",
   "pygments_lexer": "ipython3",
   "version": "3.7.12"
  },
  "papermill": {
   "default_parameters": {},
   "duration": 10.333423,
   "end_time": "2022-09-27T16:32:29.823886",
   "environment_variables": {},
   "exception": null,
   "input_path": "__notebook__.ipynb",
   "output_path": "__notebook__.ipynb",
   "parameters": {},
   "start_time": "2022-09-27T16:32:19.490463",
   "version": "2.3.4"
  }
 },
 "nbformat": 4,
 "nbformat_minor": 5
}
